{
 "cells": [
  {
   "cell_type": "code",
   "execution_count": 1,
   "metadata": {},
   "outputs": [],
   "source": [
    "from mechanisms import *\n",
    "import matplotlib.pyplot as plt\n",
    "from scipy.stats import laplace\n",
    "from scipy.integrate import quad"
   ]
  },
  {
   "cell_type": "code",
   "execution_count": 2,
   "metadata": {},
   "outputs": [],
   "source": [
    "def EM(q,eps):\n",
    "    p = em_pmf(q,eps)\n",
    "    return q.max() - p @ q\n",
    "\n",
    "def RM(q,eps):\n",
    "    p = pf_pmf(q,eps)\n",
    "    return q.max() - p @ q\n",
    "\n",
    "def NM(q,eps,sims=1):\n",
    "    total = 0\n",
    "    for _ in range(sims):\n",
    "        r = q + np.random.laplace(loc=0, scale=2/eps, size=q.size)\n",
    "        total += q[np.argmax(r)]\n",
    "    return q.max() - total / sims"
   ]
  },
  {
   "cell_type": "code",
   "execution_count": 3,
   "metadata": {},
   "outputs": [],
   "source": [
    "q = np.random.randint(0,10,size=2)*2"
   ]
  },
  {
   "cell_type": "code",
   "execution_count": 4,
   "metadata": {},
   "outputs": [
    {
     "data": {
      "text/plain": [
       "(0.5378828427399895, 0.3678794411714428, 0.5518999999999998)"
      ]
     },
     "execution_count": 4,
     "metadata": {},
     "output_type": "execute_result"
    }
   ],
   "source": [
    "EM(q,1.0), RM(q,1.0), NM(q,1.0,sims=100000)"
   ]
  },
  {
   "cell_type": "code",
   "execution_count": 5,
   "metadata": {
    "tags": []
   },
   "outputs": [
    {
     "name": "stderr",
     "output_type": "stream",
     "text": [
      "/usr/local/anaconda3/envs/privacy/lib/python3.9/site-packages/scipy/stats/_continuous_distns.py:4067: RuntimeWarning: overflow encountered in exp\n",
      "  return np.where(x > 0, 1.0-0.5*np.exp(-x), 0.5*np.exp(x))\n"
     ]
    },
    {
     "data": {
      "image/png": "[encoded data removed]",
      "text/plain": [
       "<Figure size 432x288 with 1 Axes>"
      ]
     },
     "metadata": {
      "needs_background": "light"
     },
     "output_type": "display_data"
    }
   ],
   "source": [
    "def foo(x,n=2):\n",
    "    q = np.ones(n)*x; q[0] = 0\n",
    "    return EM(q,1.0)\n",
    "def bar(x,n=2):\n",
    "    q = np.ones(n)*x; q[0] = 0\n",
    "    return RM(q,1.0)\n",
    "def baz(x):\n",
    "    q = np.ones(n)*x; q[0] = 0\n",
    "    return NM(q,1.0,sims=100000)\n",
    "\n",
    "def baz2(x,n=2):\n",
    "    lap = laplace(loc=0, scale=2.0)\n",
    "    foo = lambda z: lap.pdf(z)*lap.cdf(z-x)**(n-1)\n",
    "    star = quad(foo, a=-np.inf, b=np.inf)[0]\n",
    "    return 0-(1-star)*x\n",
    "\n",
    "\n",
    "xs = np.linspace(-20,0,100)\n",
    "ps = np.exp(1.0/2*xs)\n",
    "n = 3\n",
    "w = [foo(x,n) for x in xs]\n",
    "y = [bar(x,n) for x in xs]\n",
    "#z = [baz(x) for x in xs]\n",
    "z2 = [baz2(x,n) for x in xs]\n",
    "plt.plot(xs, w, label='Exponential', linewidth=3)\n",
    "plt.plot(xs, z2, label='Report Noisy Max', linewidth=3)\n",
    "plt.plot(xs, y, label='Permute-and-Flip ', linewidth=3)\n",
    "plt.legend(fontsize='x-large')\n",
    "plt.xlabel('c', fontsize='xx-large')\n",
    "plt.xticks([-20,-10,0])\n",
    "plt.ylabel('Expected Error', fontsize='xx-large')\n",
    "plt.savefig('noisymax.pdf')"
   ]
  },
  {
   "cell_type": "code",
   "execution_count": 6,
   "metadata": {},
   "outputs": [],
   "source": [
    "from sympy import Symbol, integrate, exp, oo"
   ]
  },
  {
   "cell_type": "code",
   "execution_count": 7,
   "metadata": {},
   "outputs": [],
   "source": [
    "x = Symbol('x')\n",
    "z = Symbol('z')\n",
    "n = Symbol('n')\n",
    "eps = Symbol('epsilon')\n",
    "Delta = Symbol('Delta')\n",
    "\n",
    "A = integrate(eps/(4*Delta)*exp(eps/(2*Delta)*z)*(1/2*exp(eps/(2*Delta)*(z-x)))**1,(z,-oo,x))\n",
    "B = integrate(eps/(4*Delta)*exp(eps/(2*Delta)*z)*(1-1/2*exp(-eps/(2*Delta)*(z-x)))**1,(z,x,0))\n",
    "C = integrate(eps/(4*Delta)*exp(-eps/(2*Delta)*z)*(1-1/2*exp(-eps/(2*Delta)*(z-x)))**1,(z,0,oo))"
   ]
  },
  {
   "cell_type": "code",
   "execution_count": 8,
   "metadata": {},
   "outputs": [
    {
     "data": {
      "text/latex": [
       "$\\displaystyle 0.5 x \\left(x - 1\\right) e^{2 x}$"
      ],
      "text/plain": [
       "0.5*x*(x - 1)*exp(2*x)"
      ]
     },
     "execution_count": 8,
     "metadata": {},
     "output_type": "execute_result"
    }
   ],
   "source": [
    "ans = -x*(1-(A+B+C).subs(eps,8).subs(Delta,2))\n",
    "ans.simplify().expand().simplify()"
   ]
  },
  {
   "cell_type": "code",
   "execution_count": 9,
   "metadata": {},
   "outputs": [
    {
     "data": {
      "text/latex": [
       "$\\displaystyle \\begin{cases} \\frac{2 \\Delta}{\\epsilon} & \\text{for}\\: \\left|{\\arg{\\left(\\Delta \\right)} - \\arg{\\left(\\epsilon \\right)}}\\right| < \\frac{\\pi}{2} \\\\\\int\\limits_{-\\infty}^{0} e^{\\frac{\\epsilon z}{2 \\Delta}}\\, dz & \\text{otherwise} \\end{cases}$"
      ],
      "text/plain": [
       "Piecewise((2*Delta/epsilon, Abs(arg(Delta) - arg(epsilon)) < pi/2), (Integral(exp(epsilon*z/(2*Delta)), (z, -oo, 0)), True))"
      ]
     },
     "execution_count": 9,
     "metadata": {},
     "output_type": "execute_result"
    }
   ],
   "source": [
    "integrate(exp(eps/(2*Delta)*z),(z,-oo,0))"
   ]
  },
  {
   "cell_type": "code",
   "execution_count": 10,
   "metadata": {},
   "outputs": [
    {
     "ename": "KeyError",
     "evalue": "88",
     "output_type": "error",
     "traceback": [
      "\u001b[0;31m---------------------------------------------------------------------------\u001b[0m",
      "\u001b[0;31mKeyError\u001b[0m                                  Traceback (most recent call last)",
      "\u001b[0;32m<ipython-input-10-95b110fa5e84>\u001b[0m in \u001b[0;36m<module>\u001b[0;34m\u001b[0m\n\u001b[0;32m----> 1\u001b[0;31m \u001b[0mt\u001b[0m \u001b[0;34m=\u001b[0m \u001b[0mOut\u001b[0m\u001b[0;34m[\u001b[0m\u001b[0;36m88\u001b[0m\u001b[0;34m]\u001b[0m\u001b[0;34m\u001b[0m\u001b[0;34m\u001b[0m\u001b[0m\n\u001b[0m\u001b[1;32m      2\u001b[0m \u001b[0mtype\u001b[0m\u001b[0;34m(\u001b[0m\u001b[0mt\u001b[0m\u001b[0;34m)\u001b[0m\u001b[0;34m\u001b[0m\u001b[0;34m\u001b[0m\u001b[0m\n",
      "\u001b[0;31mKeyError\u001b[0m: 88"
     ]
    }
   ],
   "source": [
    "t = Out[88]\n",
    "type(t)"
   ]
  },
  {
   "cell_type": "code",
   "execution_count": null,
   "metadata": {},
   "outputs": [],
   "source": []
  }
 ],
 "metadata": {
  "kernelspec": {
   "display_name": "Python 3",
   "language": "python",
   "name": "python3"
  },
  "language_info": {
   "codemirror_mode": {
    "name": "ipython",
    "version": 3
   },
   "file_extension": ".py",
   "mimetype": "text/x-python",
   "name": "python",
   "nbconvert_exporter": "python",
   "pygments_lexer": "ipython3",
   "version": "3.9.2"
  }
 },
 "nbformat": 4,
 "nbformat_minor": 4
}
